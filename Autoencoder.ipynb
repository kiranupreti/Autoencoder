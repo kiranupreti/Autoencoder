{
 "cells": [
  {
   "cell_type": "code",
   "execution_count": null,
   "metadata": {},
   "outputs": [],
   "source": []
  },
  {
   "cell_type": "code",
   "execution_count": 2,
   "metadata": {},
   "outputs": [],
   "source": [
    "import numpy as np\n",
    "import matplotlib.pyplot as plt\n",
    "%matplotlib inline\n",
    "\n",
    "from keras.datasets import mnist"
   ]
  },
  {
   "cell_type": "code",
   "execution_count": 3,
   "metadata": {},
   "outputs": [],
   "source": [
    "(x_train, _), (x_test, _) = mnist.load_data()"
   ]
  },
  {
   "cell_type": "code",
   "execution_count": 4,
   "metadata": {},
   "outputs": [
    {
     "name": "stdout",
     "output_type": "stream",
     "text": [
      "(60000, 28, 28) (10000, 28, 28)\n"
     ]
    }
   ],
   "source": [
    "X_train = x_train.astype('float32') / 255\n",
    "X_test = x_test.astype('float32') / 255\n",
    "\n",
    "print(X_train.shape, X_test.shape)"
   ]
  },
  {
   "cell_type": "code",
   "execution_count": 5,
   "metadata": {},
   "outputs": [
    {
     "name": "stdout",
     "output_type": "stream",
     "text": [
      "(60000, 784) (10000, 784)\n"
     ]
    }
   ],
   "source": [
    "X_train = X_train.reshape(-1, 28*28)\n",
    "X_test = X_test.reshape(-1, 28*28)\n",
    "\n",
    "print(X_train.shape, X_test.shape)"
   ]
  },
  {
   "cell_type": "code",
   "execution_count": 6,
   "metadata": {},
   "outputs": [],
   "source": [
    "from keras.models import Model\n",
    "from keras.layers import Input, Dense"
   ]
  },
  {
   "cell_type": "code",
   "execution_count": 7,
   "metadata": {},
   "outputs": [],
   "source": [
    "input_img = Input(shape=(784,))\n",
    "encoder = Dense(128, activation=\"relu\")(input_img)\n",
    "encoder = Dense(64, activation=\"relu\")(encoder)\n",
    "encoder = Dense(32, activation=\"relu\")(encoder)\n",
    "\n",
    "decoder = Dense(64, activation=\"relu\")(encoder)\n",
    "decoder = Dense(128, activation=\"relu\")(decoder)\n",
    "decoder = Dense(784, activation=\"sigmoid\")(decoder)"
   ]
  },
  {
   "cell_type": "code",
   "execution_count": 9,
   "metadata": {},
   "outputs": [
    {
     "name": "stdout",
     "output_type": "stream",
     "text": [
      "Train on 60000 samples, validate on 10000 samples\n",
      "Epoch 1/50\n",
      "60000/60000 [==============================] - 8s 137us/step - loss: 0.3418 - val_loss: 0.2636\n",
      "Epoch 2/50\n",
      "60000/60000 [==============================] - 6s 104us/step - loss: 0.2590 - val_loss: 0.2544\n",
      "Epoch 3/50\n",
      "60000/60000 [==============================] - 6s 97us/step - loss: 0.2468 - val_loss: 0.2350\n",
      "Epoch 4/50\n",
      "60000/60000 [==============================] - 6s 100us/step - loss: 0.2294 - val_loss: 0.2241\n",
      "Epoch 5/50\n",
      "60000/60000 [==============================] - 6s 97us/step - loss: 0.2199 - val_loss: 0.2113\n",
      "Epoch 6/50\n",
      "60000/60000 [==============================] - 6s 96us/step - loss: 0.2039 - val_loss: 0.1952\n",
      "Epoch 7/50\n",
      "60000/60000 [==============================] - 6s 104us/step - loss: 0.1918 - val_loss: 0.1871\n",
      "Epoch 8/50\n",
      "60000/60000 [==============================] - 6s 99us/step - loss: 0.1823 - val_loss: 0.1780\n",
      "Epoch 9/50\n",
      "60000/60000 [==============================] - 6s 96us/step - loss: 0.1764 - val_loss: 0.1722\n",
      "Epoch 10/50\n",
      "60000/60000 [==============================] - 6s 102us/step - loss: 0.1719 - val_loss: 0.1686\n",
      "Epoch 11/50\n",
      "60000/60000 [==============================] - 7s 121us/step - loss: 0.1676 - val_loss: 0.1651\n",
      "Epoch 12/50\n",
      "60000/60000 [==============================] - 7s 112us/step - loss: 0.1630 - val_loss: 0.1592\n",
      "Epoch 13/50\n",
      "60000/60000 [==============================] - 6s 103us/step - loss: 0.1581 - val_loss: 0.1549\n",
      "Epoch 14/50\n",
      "60000/60000 [==============================] - 6s 100us/step - loss: 0.1540 - val_loss: 0.1491\n",
      "Epoch 15/50\n",
      "60000/60000 [==============================] - 6s 105us/step - loss: 0.1506 - val_loss: 0.1478\n",
      "Epoch 16/50\n",
      "60000/60000 [==============================] - 6s 101us/step - loss: 0.1477 - val_loss: 0.1454\n",
      "Epoch 17/50\n",
      "60000/60000 [==============================] - 7s 110us/step - loss: 0.1450 - val_loss: 0.1411\n",
      "Epoch 18/50\n",
      "60000/60000 [==============================] - 7s 110us/step - loss: 0.1427 - val_loss: 0.1430\n",
      "Epoch 19/50\n",
      "60000/60000 [==============================] - 6s 99us/step - loss: 0.1405 - val_loss: 0.1380\n",
      "Epoch 20/50\n",
      "60000/60000 [==============================] - 6s 101us/step - loss: 0.1386 - val_loss: 0.1374\n",
      "Epoch 21/50\n",
      "60000/60000 [==============================] - 7s 116us/step - loss: 0.1370 - val_loss: 0.1390\n",
      "Epoch 22/50\n",
      "60000/60000 [==============================] - 7s 109us/step - loss: 0.1353 - val_loss: 0.1328\n",
      "Epoch 23/50\n",
      "60000/60000 [==============================] - 7s 121us/step - loss: 0.1338 - val_loss: 0.1320\n",
      "Epoch 24/50\n",
      "60000/60000 [==============================] - 8s 131us/step - loss: 0.1322 - val_loss: 0.1281\n",
      "Epoch 25/50\n",
      "60000/60000 [==============================] - 7s 123us/step - loss: 0.1310 - val_loss: 0.1277\n",
      "Epoch 26/50\n",
      "60000/60000 [==============================] - 6s 106us/step - loss: 0.1300 - val_loss: 0.1282\n",
      "Epoch 27/50\n",
      "60000/60000 [==============================] - 6s 101us/step - loss: 0.1290 - val_loss: 0.1260\n",
      "Epoch 28/50\n",
      "60000/60000 [==============================] - 6s 101us/step - loss: 0.1279 - val_loss: 0.1274\n",
      "Epoch 29/50\n",
      "60000/60000 [==============================] - 6s 104us/step - loss: 0.1270 - val_loss: 0.1256\n",
      "Epoch 30/50\n",
      "60000/60000 [==============================] - 6s 104us/step - loss: 0.1261 - val_loss: 0.1248\n",
      "Epoch 31/50\n",
      "60000/60000 [==============================] - 6s 108us/step - loss: 0.1253 - val_loss: 0.1239\n",
      "Epoch 32/50\n",
      "60000/60000 [==============================] - 6s 106us/step - loss: 0.1244 - val_loss: 0.1226\n",
      "Epoch 33/50\n",
      "60000/60000 [==============================] - 7s 109us/step - loss: 0.1236 - val_loss: 0.1216\n",
      "Epoch 34/50\n",
      "60000/60000 [==============================] - 6s 100us/step - loss: 0.1227 - val_loss: 0.1211\n",
      "Epoch 35/50\n",
      "60000/60000 [==============================] - 6s 101us/step - loss: 0.1220 - val_loss: 0.1203\n",
      "Epoch 36/50\n",
      "60000/60000 [==============================] - 7s 118us/step - loss: 0.1214 - val_loss: 0.1200\n",
      "Epoch 37/50\n",
      "60000/60000 [==============================] - 7s 111us/step - loss: 0.1207 - val_loss: 0.1210\n",
      "Epoch 38/50\n",
      "60000/60000 [==============================] - 6s 103us/step - loss: 0.1199 - val_loss: 0.1186\n",
      "Epoch 39/50\n",
      "60000/60000 [==============================] - 6s 105us/step - loss: 0.1192 - val_loss: 0.1173\n",
      "Epoch 40/50\n",
      "60000/60000 [==============================] - 6s 106us/step - loss: 0.1185 - val_loss: 0.1176\n",
      "Epoch 41/50\n",
      "60000/60000 [==============================] - 6s 107us/step - loss: 0.1178 - val_loss: 0.1156\n",
      "Epoch 42/50\n",
      "60000/60000 [==============================] - 6s 103us/step - loss: 0.1172 - val_loss: 0.1153\n",
      "Epoch 43/50\n",
      "60000/60000 [==============================] - 6s 102us/step - loss: 0.1164 - val_loss: 0.1137\n",
      "Epoch 44/50\n",
      "60000/60000 [==============================] - 6s 106us/step - loss: 0.1159 - val_loss: 0.1142\n",
      "Epoch 45/50\n",
      "60000/60000 [==============================] - 6s 106us/step - loss: 0.1154 - val_loss: 0.1129\n",
      "Epoch 46/50\n",
      "60000/60000 [==============================] - 7s 111us/step - loss: 0.1148 - val_loss: 0.1152\n",
      "Epoch 47/50\n",
      "60000/60000 [==============================] - 6s 106us/step - loss: 0.1143 - val_loss: 0.1135\n",
      "Epoch 48/50\n",
      "60000/60000 [==============================] - 7s 114us/step - loss: 0.1138 - val_loss: 0.1136\n",
      "Epoch 49/50\n",
      "60000/60000 [==============================] - 8s 128us/step - loss: 0.1134 - val_loss: 0.1132\n",
      "Epoch 50/50\n",
      "60000/60000 [==============================] - 7s 115us/step - loss: 0.1130 - val_loss: 0.1114\n"
     ]
    },
    {
     "data": {
      "text/plain": [
       "<keras.callbacks.History at 0x12856f0b8>"
      ]
     },
     "execution_count": 9,
     "metadata": {},
     "output_type": "execute_result"
    }
   ],
   "source": [
    "autoencoder = Model(input_img, decoder)\n",
    "autoencoder.compile(optimizer=\"adadelta\",\n",
    "                   loss=\"binary_crossentropy\")\n",
    "autoencoder.fit(X_train, X_train, \n",
    "               epochs=50,\n",
    "               batch_size=256,\n",
    "               validation_data=(X_test, X_test))"
   ]
  },
  {
   "cell_type": "code",
   "execution_count": 16,
   "metadata": {},
   "outputs": [
    {
     "data": {
      "image/png": "[encoded data removed]",
      "text/plain": [
       "<Figure size 432x288 with 1 Axes>"
      ]
     },
     "metadata": {
      "needs_background": "light"
     },
     "output_type": "display_data"
    },
    {
     "data": {
      "image/png": "[encoded data removed]",
      "text/plain": [
       "<Figure size 432x288 with 1 Axes>"
      ]
     },
     "metadata": {
      "needs_background": "light"
     },
     "output_type": "display_data"
    }
   ],
   "source": [
    "i = 4\n",
    "plt.imshow(X_test[i].reshape(28, 28), cmap=\"gray\")\n",
    "plt.show()\n",
    "\n",
    "out = autoencoder.predict(X_test[i].reshape(1, -1))\n",
    "plt.imshow(out[0].reshape(28, 28), cmap=\"gray\")\n",
    "plt.show()"
   ]
  },
  {
   "cell_type": "code",
   "execution_count": null,
   "metadata": {},
   "outputs": [],
   "source": []
  },
  {
   "cell_type": "code",
   "execution_count": null,
   "metadata": {},
   "outputs": [],
   "source": []
  },
  {
   "cell_type": "code",
   "execution_count": null,
   "metadata": {},
   "outputs": [],
   "source": []
  },
  {
   "cell_type": "code",
   "execution_count": null,
   "metadata": {},
   "outputs": [],
   "source": []
  },
  {
   "cell_type": "code",
   "execution_count": null,
   "metadata": {},
   "outputs": [],
   "source": []
  },
  {
   "cell_type": "code",
   "execution_count": null,
   "metadata": {},
   "outputs": [],
   "source": []
  },
  {
   "cell_type": "code",
   "execution_count": null,
   "metadata": {},
   "outputs": [],
   "source": []
  },
  {
   "cell_type": "code",
   "execution_count": null,
   "metadata": {},
   "outputs": [],
   "source": []
  },
  {
   "cell_type": "code",
   "execution_count": null,
   "metadata": {},
   "outputs": [],
   "source": []
  },
  {
   "cell_type": "code",
   "execution_count": null,
   "metadata": {},
   "outputs": [],
   "source": []
  },
  {
   "cell_type": "code",
   "execution_count": null,
   "metadata": {},
   "outputs": [],
   "source": []
  },
  {
   "cell_type": "code",
   "execution_count": null,
   "metadata": {},
   "outputs": [],
   "source": []
  },
  {
   "cell_type": "code",
   "execution_count": null,
   "metadata": {},
   "outputs": [],
   "source": []
  },
  {
   "cell_type": "code",
   "execution_count": null,
   "metadata": {},
   "outputs": [],
   "source": []
  },
  {
   "cell_type": "code",
   "execution_count": null,
   "metadata": {},
   "outputs": [],
   "source": []
  },
  {
   "cell_type": "code",
   "execution_count": null,
   "metadata": {},
   "outputs": [],
   "source": []
  },
  {
   "cell_type": "code",
   "execution_count": null,
   "metadata": {},
   "outputs": [],
   "source": []
  }
 ],
 "metadata": {
  "kernelspec": {
   "display_name": "Python 3",
   "language": "python",
   "name": "python3"
  },
  "language_info": {
   "codemirror_mode": {
    "name": "ipython",
    "version": 3
   },
   "file_extension": ".py",
   "mimetype": "text/x-python",
   "name": "python",
   "nbconvert_exporter": "python",
   "pygments_lexer": "ipython3",
   "version": "3.7.4"
  }
 },
 "nbformat": 4,
 "nbformat_minor": 2
}
